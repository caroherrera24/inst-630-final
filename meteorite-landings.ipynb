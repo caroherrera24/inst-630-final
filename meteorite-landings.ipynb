{
 "cells": [
  {
   "cell_type": "code",
   "execution_count": 1,
   "id": "a4899f39-013e-49b9-80be-7e1a937856c5",
   "metadata": {},
   "outputs": [],
   "source": [
    "import pandas as pd"
   ]
  },
  {
   "cell_type": "code",
   "execution_count": 4,
   "id": "a74aaa2d-b547-49c8-9f31-1eed07c6a53e",
   "metadata": {},
   "outputs": [],
   "source": [
    "df = pd.read_csv(\"meteorite-landings.csv\")\n",
    "df = df.rename(columns={\"recclas\": \"class\", \"mass (g)\": \"mass\", \"reclat\": \"lat\", \"reclong\": \"long\", \"GeoLocation\": \"geolocation\"})\n",
    "\n",
    "# drop all relict meteorites\n",
    "df = df.loc[df[\"nametype\"] == \"Valid\"]\n",
    "\n",
    "# drop all meteorites that were found, not seen fall\n",
    "df = df.loc[df[\"fall\"] == \"Fell\"]\n",
    "\n",
    "# drop all rows with missing values\n",
    "df = df.dropna()\n",
    "\n",
    "df[\"year\"] = df[\"year\"].astype(int)\n",
    "\n",
    "df = df.drop(columns=[\"id\", \"nametype\", \"fall\", \"geolocation\"])"
   ]
  },
  {
   "cell_type": "code",
   "execution_count": 5,
   "id": "746954bb-cddc-47ca-ba50-729721de9429",
   "metadata": {},
   "outputs": [
    {
     "data": {
      "text/html": [
       "<div>\n",
       "<style scoped>\n",
       "    .dataframe tbody tr th:only-of-type {\n",
       "        vertical-align: middle;\n",
       "    }\n",
       "\n",
       "    .dataframe tbody tr th {\n",
       "        vertical-align: top;\n",
       "    }\n",
       "\n",
       "    .dataframe thead th {\n",
       "        text-align: right;\n",
       "    }\n",
       "</style>\n",
       "<table border=\"1\" class=\"dataframe\">\n",
       "  <thead>\n",
       "    <tr style=\"text-align: right;\">\n",
       "      <th></th>\n",
       "      <th>name</th>\n",
       "      <th>recclass</th>\n",
       "      <th>mass</th>\n",
       "      <th>year</th>\n",
       "      <th>lat</th>\n",
       "      <th>long</th>\n",
       "    </tr>\n",
       "  </thead>\n",
       "  <tbody>\n",
       "    <tr>\n",
       "      <th>0</th>\n",
       "      <td>Aachen</td>\n",
       "      <td>L5</td>\n",
       "      <td>21.0</td>\n",
       "      <td>1880</td>\n",
       "      <td>50.77500</td>\n",
       "      <td>6.08333</td>\n",
       "    </tr>\n",
       "    <tr>\n",
       "      <th>1</th>\n",
       "      <td>Aarhus</td>\n",
       "      <td>H6</td>\n",
       "      <td>720.0</td>\n",
       "      <td>1951</td>\n",
       "      <td>56.18333</td>\n",
       "      <td>10.23333</td>\n",
       "    </tr>\n",
       "    <tr>\n",
       "      <th>2</th>\n",
       "      <td>Abee</td>\n",
       "      <td>EH4</td>\n",
       "      <td>107000.0</td>\n",
       "      <td>1952</td>\n",
       "      <td>54.21667</td>\n",
       "      <td>-113.00000</td>\n",
       "    </tr>\n",
       "    <tr>\n",
       "      <th>3</th>\n",
       "      <td>Acapulco</td>\n",
       "      <td>Acapulcoite</td>\n",
       "      <td>1914.0</td>\n",
       "      <td>1976</td>\n",
       "      <td>16.88333</td>\n",
       "      <td>-99.90000</td>\n",
       "    </tr>\n",
       "    <tr>\n",
       "      <th>4</th>\n",
       "      <td>Achiras</td>\n",
       "      <td>L6</td>\n",
       "      <td>780.0</td>\n",
       "      <td>1902</td>\n",
       "      <td>-33.16667</td>\n",
       "      <td>-64.95000</td>\n",
       "    </tr>\n",
       "  </tbody>\n",
       "</table>\n",
       "</div>"
      ],
      "text/plain": [
       "       name     recclass      mass  year       lat       long\n",
       "0    Aachen           L5      21.0  1880  50.77500    6.08333\n",
       "1    Aarhus           H6     720.0  1951  56.18333   10.23333\n",
       "2      Abee          EH4  107000.0  1952  54.21667 -113.00000\n",
       "3  Acapulco  Acapulcoite    1914.0  1976  16.88333  -99.90000\n",
       "4   Achiras           L6     780.0  1902 -33.16667  -64.95000"
      ]
     },
     "execution_count": 5,
     "metadata": {},
     "output_type": "execute_result"
    }
   ],
   "source": [
    "df.head()"
   ]
  },
  {
   "cell_type": "code",
   "execution_count": 6,
   "id": "fff6f5d1-ea48-4f1b-91d6-399164ef6436",
   "metadata": {},
   "outputs": [],
   "source": [
    "df.to_json(\"cleaned-data.json\", orient=\"records\")"
   ]
  }
 ],
 "metadata": {
  "kernelspec": {
   "display_name": "Python 3 (ipykernel)",
   "language": "python",
   "name": "python3"
  },
  "language_info": {
   "codemirror_mode": {
    "name": "ipython",
    "version": 3
   },
   "file_extension": ".py",
   "mimetype": "text/x-python",
   "name": "python",
   "nbconvert_exporter": "python",
   "pygments_lexer": "ipython3",
   "version": "3.12.7"
  }
 },
 "nbformat": 4,
 "nbformat_minor": 5
}
