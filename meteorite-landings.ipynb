{
 "cells": [
  {
   "cell_type": "code",
   "execution_count": 1,
   "id": "a4899f39-013e-49b9-80be-7e1a937856c5",
   "metadata": {},
   "outputs": [],
   "source": [
    "import pandas as pd"
   ]
  },
  {
   "cell_type": "code",
   "execution_count": 2,
   "id": "a74aaa2d-b547-49c8-9f31-1eed07c6a53e",
   "metadata": {},
   "outputs": [],
   "source": [
    "df = pd.read_csv(\"meteorite-landings.csv\")\n",
    "df = df.rename(columns={\"recclass\": \"class\", \"mass (g)\": \"mass\", \"reclat\": \"lat\", \"reclong\": \"long\", \"GeoLocation\": \"geolocation\"})\n",
    "\n",
    "# drop all relict meteorites\n",
    "df = df.loc[df[\"nametype\"] == \"Valid\"]\n",
    "\n",
    "# drop all meteorites that were found, not seen fall\n",
    "df = df.loc[df[\"fall\"] == \"Fell\"]\n",
    "\n",
    "# drop all rows with missing values\n",
    "df = df.dropna()\n",
    "\n",
    "df[\"year\"] = df[\"year\"].astype(int)\n",
    "\n",
    "# sort by year ascending\n",
    "df = df.sort_values(by = [\"year\"])\n",
    "\n",
    "df = df.drop(columns=[\"id\", \"nametype\", \"fall\", \"geolocation\"])"
   ]
  },
  {
   "cell_type": "code",
   "execution_count": 3,
   "id": "746954bb-cddc-47ca-ba50-729721de9429",
   "metadata": {},
   "outputs": [
    {
     "data": {
      "text/html": [
       "<div>\n",
       "<style scoped>\n",
       "    .dataframe tbody tr th:only-of-type {\n",
       "        vertical-align: middle;\n",
       "    }\n",
       "\n",
       "    .dataframe tbody tr th {\n",
       "        vertical-align: top;\n",
       "    }\n",
       "\n",
       "    .dataframe thead th {\n",
       "        text-align: right;\n",
       "    }\n",
       "</style>\n",
       "<table border=\"1\" class=\"dataframe\">\n",
       "  <thead>\n",
       "    <tr style=\"text-align: right;\">\n",
       "      <th></th>\n",
       "      <th>name</th>\n",
       "      <th>class</th>\n",
       "      <th>mass</th>\n",
       "      <th>year</th>\n",
       "      <th>lat</th>\n",
       "      <th>long</th>\n",
       "    </tr>\n",
       "  </thead>\n",
       "  <tbody>\n",
       "    <tr>\n",
       "      <th>704</th>\n",
       "      <td>Nogata</td>\n",
       "      <td>L6</td>\n",
       "      <td>472.0</td>\n",
       "      <td>860</td>\n",
       "      <td>33.72500</td>\n",
       "      <td>130.75000</td>\n",
       "    </tr>\n",
       "    <tr>\n",
       "      <th>278</th>\n",
       "      <td>Elbogen</td>\n",
       "      <td>Iron, IID</td>\n",
       "      <td>107000.0</td>\n",
       "      <td>1399</td>\n",
       "      <td>50.18333</td>\n",
       "      <td>12.73333</td>\n",
       "    </tr>\n",
       "    <tr>\n",
       "      <th>856</th>\n",
       "      <td>Rivolta de Bassi</td>\n",
       "      <td>Stone-uncl</td>\n",
       "      <td>103.3</td>\n",
       "      <td>1490</td>\n",
       "      <td>45.48333</td>\n",
       "      <td>9.51667</td>\n",
       "    </tr>\n",
       "    <tr>\n",
       "      <th>283</th>\n",
       "      <td>Ensisheim</td>\n",
       "      <td>LL6</td>\n",
       "      <td>127000.0</td>\n",
       "      <td>1491</td>\n",
       "      <td>47.86667</td>\n",
       "      <td>7.35000</td>\n",
       "    </tr>\n",
       "    <tr>\n",
       "      <th>174</th>\n",
       "      <td>Castrovillari</td>\n",
       "      <td>Stone-uncl</td>\n",
       "      <td>15000.0</td>\n",
       "      <td>1583</td>\n",
       "      <td>39.80000</td>\n",
       "      <td>16.20000</td>\n",
       "    </tr>\n",
       "  </tbody>\n",
       "</table>\n",
       "</div>"
      ],
      "text/plain": [
       "                 name       class      mass  year       lat       long\n",
       "704            Nogata          L6     472.0   860  33.72500  130.75000\n",
       "278           Elbogen   Iron, IID  107000.0  1399  50.18333   12.73333\n",
       "856  Rivolta de Bassi  Stone-uncl     103.3  1490  45.48333    9.51667\n",
       "283         Ensisheim         LL6  127000.0  1491  47.86667    7.35000\n",
       "174     Castrovillari  Stone-uncl   15000.0  1583  39.80000   16.20000"
      ]
     },
     "execution_count": 3,
     "metadata": {},
     "output_type": "execute_result"
    }
   ],
   "source": [
    "df.head()"
   ]
  },
  {
   "cell_type": "code",
   "execution_count": 4,
   "id": "fff6f5d1-ea48-4f1b-91d6-399164ef6436",
   "metadata": {},
   "outputs": [],
   "source": [
    "df.to_json(\"cleaned-data.json\", orient=\"records\")"
   ]
  }
 ],
 "metadata": {
  "kernelspec": {
   "display_name": "Python 3 (ipykernel)",
   "language": "python",
   "name": "python3"
  },
  "language_info": {
   "codemirror_mode": {
    "name": "ipython",
    "version": 3
   },
   "file_extension": ".py",
   "mimetype": "text/x-python",
   "name": "python",
   "nbconvert_exporter": "python",
   "pygments_lexer": "ipython3",
   "version": "3.12.7"
  }
 },
 "nbformat": 4,
 "nbformat_minor": 5
}
